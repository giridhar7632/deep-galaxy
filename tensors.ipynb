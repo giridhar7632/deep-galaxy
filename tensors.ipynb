{
 "cells": [
  {
   "attachments": {},
   "cell_type": "markdown",
   "metadata": {},
   "source": [
    "Tensors are Multi dimensional arrays"
   ]
  },
  {
   "cell_type": "code",
   "execution_count": 2,
   "metadata": {},
   "outputs": [],
   "source": [
    "import tensorflow as tf\n",
    "import numpy as np"
   ]
  },
  {
   "cell_type": "code",
   "execution_count": 2,
   "metadata": {},
   "outputs": [
    {
     "data": {
      "text/plain": [
       "<tf.Tensor: shape=(), dtype=int32, numpy=2>"
      ]
     },
     "execution_count": 2,
     "metadata": {},
     "output_type": "execute_result"
    }
   ],
   "source": [
    "tensor_zero_d = tf.constant(2)\n",
    "tensor_zero_d"
   ]
  },
  {
   "cell_type": "code",
   "execution_count": 3,
   "metadata": {},
   "outputs": [
    {
     "data": {
      "text/plain": [
       "<tf.Tensor: shape=(3,), dtype=int32, numpy=array([1, 2, 3])>"
      ]
     },
     "execution_count": 3,
     "metadata": {},
     "output_type": "execute_result"
    }
   ],
   "source": [
    "tensor_one_d = tf.constant([1,2,3])\n",
    "tensor_one_d"
   ]
  },
  {
   "cell_type": "code",
   "execution_count": 4,
   "metadata": {},
   "outputs": [
    {
     "data": {
      "text/plain": [
       "<tf.Tensor: shape=(3, 3), dtype=int32, numpy=\n",
       "array([[1, 2, 3],\n",
       "       [4, 5, 6],\n",
       "       [7, 8, 9]])>"
      ]
     },
     "execution_count": 4,
     "metadata": {},
     "output_type": "execute_result"
    }
   ],
   "source": [
    "tensor_two_d = tf.constant([[1,2,3],[4,5,6],[7,8,9]])\n",
    "tensor_two_d"
   ]
  },
  {
   "cell_type": "code",
   "execution_count": 89,
   "metadata": {},
   "outputs": [
    {
     "data": {
      "text/plain": [
       "<tf.Tensor: shape=(3, 3, 3), dtype=float32, numpy=\n",
       "array([[[1.2, 2. , 3. ],\n",
       "        [4. , 5. , 6. ],\n",
       "        [7. , 8. , 9. ]],\n",
       "\n",
       "       [[1. , 2. , 3. ],\n",
       "        [4. , 5. , 6. ],\n",
       "        [7. , 8. , 9. ]],\n",
       "\n",
       "       [[1. , 2. , 3. ],\n",
       "        [4. , 5. , 6. ],\n",
       "        [7. , 8. , 9. ]]], dtype=float32)>"
      ]
     },
     "execution_count": 89,
     "metadata": {},
     "output_type": "execute_result"
    }
   ],
   "source": [
    "tensor_three_d = tf.constant([\n",
    "                              [[1.2,2,3],[4,5,6],[7,8,9]],\n",
    "                              [[1,2,3],[4,5,6],[7,8,9]],\n",
    "                              [[1,2,3],[4,5,6],[7,8,9]]\n",
    "                            ])\n",
    "tensor_three_d"
   ]
  },
  {
   "cell_type": "code",
   "execution_count": 14,
   "metadata": {},
   "outputs": [
    {
     "data": {
      "text/plain": [
       "<tf.Tensor: shape=(3, 3, 3, 3), dtype=int32, numpy=\n",
       "array([[[[1, 2, 3],\n",
       "         [4, 5, 6],\n",
       "         [7, 8, 9]],\n",
       "\n",
       "        [[1, 2, 3],\n",
       "         [4, 5, 6],\n",
       "         [7, 8, 9]],\n",
       "\n",
       "        [[1, 2, 3],\n",
       "         [4, 5, 6],\n",
       "         [7, 8, 9]]],\n",
       "\n",
       "\n",
       "       [[[1, 2, 3],\n",
       "         [4, 5, 6],\n",
       "         [7, 8, 9]],\n",
       "\n",
       "        [[1, 2, 3],\n",
       "         [4, 5, 6],\n",
       "         [7, 8, 9]],\n",
       "\n",
       "        [[1, 2, 3],\n",
       "         [4, 5, 6],\n",
       "         [7, 8, 9]]],\n",
       "\n",
       "\n",
       "       [[[1, 2, 3],\n",
       "         [4, 5, 6],\n",
       "         [7, 8, 9]],\n",
       "\n",
       "        [[1, 2, 3],\n",
       "         [4, 5, 6],\n",
       "         [7, 8, 9]],\n",
       "\n",
       "        [[1, 2, 3],\n",
       "         [4, 5, 6],\n",
       "         [7, 8, 9]]]])>"
      ]
     },
     "execution_count": 14,
     "metadata": {},
     "output_type": "execute_result"
    }
   ],
   "source": [
    "tensor_four_d = tf.constant([\n",
    "                              [[[1,2,3],[4,5,6],[7,8,9]],[[1,2,3],[4,5,6],[7,8,9]],[[1,2,3],[4,5,6],[7,8,9]]],\n",
    "                              [[[1,2,3],[4,5,6],[7,8,9]],[[1,2,3],[4,5,6],[7,8,9]],[[1,2,3],[4,5,6],[7,8,9]]],\n",
    "                              [[[1,2,3],[4,5,6],[7,8,9]],[[1,2,3],[4,5,6],[7,8,9]],[[1,2,3],[4,5,6],[7,8,9]]]\n",
    "                            ])\n",
    "tensor_four_d"
   ]
  },
  {
   "cell_type": "code",
   "execution_count": 15,
   "metadata": {},
   "outputs": [
    {
     "data": {
      "text/plain": [
       "<tf.Tensor: shape=(2,), dtype=string, numpy=array([b'hello', b'world'], dtype=object)>"
      ]
     },
     "execution_count": 15,
     "metadata": {},
     "output_type": "execute_result"
    }
   ],
   "source": [
    "tensor_string = tf.constant(['hello', 'world'])\n",
    "tensor_string"
   ]
  },
  {
   "cell_type": "code",
   "execution_count": 17,
   "metadata": {},
   "outputs": [
    {
     "data": {
      "text/plain": [
       "array([1, 2, 4])"
      ]
     },
     "execution_count": 17,
     "metadata": {},
     "output_type": "execute_result"
    }
   ],
   "source": [
    "np_array = np.array([1,2,4])\n",
    "np_array"
   ]
  },
  {
   "cell_type": "code",
   "execution_count": 19,
   "metadata": {},
   "outputs": [
    {
     "data": {
      "text/plain": [
       "<tf.Tensor: shape=(3,), dtype=int32, numpy=array([1, 2, 4])>"
      ]
     },
     "execution_count": 19,
     "metadata": {},
     "output_type": "execute_result"
    }
   ],
   "source": [
    "converted_tensor = tf.convert_to_tensor(np_array)\n",
    "converted_tensor"
   ]
  },
  {
   "attachments": {},
   "cell_type": "markdown",
   "metadata": {},
   "source": [
    "## Built-in functions"
   ]
  },
  {
   "cell_type": "code",
   "execution_count": 42,
   "metadata": {},
   "outputs": [
    {
     "name": "stdout",
     "output_type": "stream",
     "text": [
      "identity matrix:  tf.Tensor(\n",
      "[[[1. 0. 0.]\n",
      "  [0. 1. 0.]\n",
      "  [0. 0. 1.]]\n",
      "\n",
      " [[1. 0. 0.]\n",
      "  [0. 1. 0.]\n",
      "  [0. 0. 1.]]], shape=(2, 3, 3), dtype=float32)\n",
      "ones matrix:  tf.Tensor(\n",
      "[[1 1]\n",
      " [1 1]\n",
      " [1 1]], shape=(3, 2), dtype=int16)\n",
      "zeros like matrix:  tf.Tensor(\n",
      "[[0. 0.]\n",
      " [0. 0.]\n",
      " [0. 0.]], shape=(3, 2), dtype=float16)\n"
     ]
    }
   ],
   "source": [
    "## eye, fill, ones, ones_like, zeros, zeros_like\n",
    "eye_tensor = tf.eye(num_rows=3,num_columns=None,batch_shape=[2,])\n",
    "print('identity matrix: ', eye_tensor)\n",
    "\n",
    "ones_tensor = tf.ones([3,2], dtype=tf.dtypes.int16)\n",
    "print('ones matrix: ', ones_tensor)\n",
    "\n",
    "zeros_tensor = tf.zeros_like(ones_tensor, dtype=tf.dtypes.float16)\n",
    "print('zeros like matrix: ', zeros_tensor)"
   ]
  },
  {
   "cell_type": "code",
   "execution_count": 43,
   "metadata": {},
   "outputs": [
    {
     "name": "stdout",
     "output_type": "stream",
     "text": [
      "rank:  tf.Tensor(2, shape=(), dtype=int32)\n",
      "shape:  (3, 3) tf.Tensor([3 3], shape=(2,), dtype=int32)\n",
      "size:  tf.Tensor(9, shape=(), dtype=int32)\n"
     ]
    }
   ],
   "source": [
    "## size, shape and rank returns tensors\n",
    "print('rank: ', tf.rank(tensor_two_d))\n",
    "print('shape: ', tensor_two_d.shape, tf.shape(tensor_two_d))\n",
    "print('size: ', tf.size(tensor_two_d))"
   ]
  },
  {
   "cell_type": "code",
   "execution_count": 45,
   "metadata": {},
   "outputs": [
    {
     "data": {
      "text/plain": [
       "<tf.Tensor: shape=(3, 2), dtype=float32, numpy=\n",
       "array([[ 0.12517582, -0.9978536 ],\n",
       "       [ 0.639383  ,  0.3338684 ],\n",
       "       [ 0.21334286,  0.3815008 ]], dtype=float32)>"
      ]
     },
     "execution_count": 45,
     "metadata": {},
     "output_type": "execute_result"
    }
   ],
   "source": [
    "## random normal distribution\n",
    "random_tensor = tf.random.normal(\n",
    "    [3,2],\n",
    "    mean=0.0,\n",
    "    stddev=0.5,\n",
    "    dtype=tf.dtypes.float32,\n",
    "    seed=None,\n",
    "    name=None\n",
    ")\n",
    "\n",
    "random_tensor"
   ]
  },
  {
   "cell_type": "code",
   "execution_count": 50,
   "metadata": {},
   "outputs": [
    {
     "data": {
      "text/plain": [
       "<tf.Tensor: shape=(3,), dtype=float32, numpy=array([650.0373 , 419.1531 , 840.42957], dtype=float32)>"
      ]
     },
     "execution_count": 50,
     "metadata": {},
     "output_type": "execute_result"
    }
   ],
   "source": [
    "## random uniform distribution\n",
    "random_tensor = tf.random.uniform(\n",
    "    [3,],\n",
    "    minval=0,\n",
    "    maxval=1000,\n",
    "    dtype=tf.dtypes.float32,\n",
    "    seed=10,\n",
    "    name=None\n",
    ")\n",
    "\n",
    "random_tensor"
   ]
  },
  {
   "attachments": {},
   "cell_type": "markdown",
   "metadata": {},
   "source": [
    "## Indexing"
   ]
  },
  {
   "cell_type": "code",
   "execution_count": 57,
   "metadata": {},
   "outputs": [
    {
     "name": "stdout",
     "output_type": "stream",
     "text": [
      "tf.Tensor([ 2  5  3  7 10 12 15 17 19], shape=(9,), dtype=int32)\n",
      "tf.Tensor(7, shape=(), dtype=int32)\n",
      "tf.Tensor([2 5 3], shape=(3,), dtype=int32)\n",
      "tf.Tensor([ 7 10], shape=(2,), dtype=int32)\n",
      "tf.Tensor([ 7 12 17], shape=(3,), dtype=int32)\n"
     ]
    }
   ],
   "source": [
    "tensor_indexed = tf.constant([2,5,3,7,10,12,15,17,19])\n",
    "print(tensor_indexed)\n",
    "print(tensor_indexed[3])  # idx\n",
    "print(tensor_indexed[:3]) # max idx\n",
    "print(tensor_indexed[3:5])  # min idx\n",
    "print(tensor_indexed[3:8:2]) # shape"
   ]
  },
  {
   "cell_type": "code",
   "execution_count": 64,
   "metadata": {},
   "outputs": [
    {
     "name": "stdout",
     "output_type": "stream",
     "text": [
      "tf.Tensor(\n",
      "[[5 6]\n",
      " [8 9]], shape=(2, 2), dtype=int32)\n",
      "tf.Tensor(\n",
      "[[[[2 3]\n",
      "   [5 6]\n",
      "   [8 9]]\n",
      "\n",
      "  [[2 3]\n",
      "   [5 6]\n",
      "   [8 9]]\n",
      "\n",
      "  [[2 3]\n",
      "   [5 6]\n",
      "   [8 9]]]], shape=(1, 3, 3, 2), dtype=int32)\n"
     ]
    }
   ],
   "source": [
    "print(tensor_two_d[1:3, 1:3]) # two D indexing\n",
    "print(tensor_three_d[2:3, ..., 1:3]) # three D indexing"
   ]
  },
  {
   "attachments": {},
   "cell_type": "markdown",
   "metadata": {},
   "source": [
    "## Math Operations"
   ]
  },
  {
   "cell_type": "code",
   "execution_count": 78,
   "metadata": {},
   "outputs": [
    {
     "name": "stdout",
     "output_type": "stream",
     "text": [
      "tf.Tensor(3, shape=(), dtype=int32)\n",
      "tf.Tensor(5.0, shape=(), dtype=float64)\n"
     ]
    },
    {
     "data": {
      "text/plain": [
       "<tf.Tensor: shape=(), dtype=float32, numpy=1.8165902>"
      ]
     },
     "execution_count": 78,
     "metadata": {},
     "output_type": "execute_result"
    }
   ],
   "source": [
    "print(tf.abs(tf.constant(-3)))\n",
    "print(tf.abs(tf.constant(-3 + 4j)))\n",
    "tf.sqrt(3.3)  # int not allowed"
   ]
  },
  {
   "cell_type": "code",
   "execution_count": 4,
   "metadata": {},
   "outputs": [
    {
     "name": "stdout",
     "output_type": "stream",
     "text": [
      "tf.Tensor([[ 6  7  8  9 10]], shape=(1, 5), dtype=int32)\n",
      "tf.Tensor([[ 5 10 15 20 25]], shape=(1, 5), dtype=int32)\n",
      "tf.Tensor(\n",
      "[[ 2  4  6  8 10]\n",
      " [ 5 10 15 20 25]], shape=(2, 5), dtype=int32)\n"
     ]
    }
   ],
   "source": [
    "x_1 = tf.constant([[1,2,3,4,5],])\n",
    "x_2 = tf.constant([5])\n",
    "\n",
    "print(tf.math.add(x_1, x_2))\n",
    "print(tf.math.multiply(x_1, x_2))\n",
    "print(tf.math.multiply(x_1, tf.constant([[2], [5]])))"
   ]
  },
  {
   "cell_type": "code",
   "execution_count": 14,
   "metadata": {},
   "outputs": [
    {
     "name": "stdout",
     "output_type": "stream",
     "text": [
      "tf.Tensor([1 1 0 2 0], shape=(5,), dtype=int64)\n",
      "tf.Tensor([1 1 0 2 0], shape=(5,), dtype=int64)\n",
      "tf.Tensor([4 1 3], shape=(3,), dtype=int64)\n",
      "tf.Tensor([2 0 1 0 1], shape=(5,), dtype=int64)\n",
      "tf.Tensor([2 0 1 0 1], shape=(5,), dtype=int64)\n",
      "tf.Tensor([0 4 0], shape=(3,), dtype=int64)\n"
     ]
    }
   ],
   "source": [
    "x_argmax = tf.constant([[1,2,33,4,50], [11,231,31,41,5], [0,21,31,341,35]])\n",
    "print(tf.math.argmax(x_argmax))\n",
    "print(tf.math.argmax(x_argmax, 0))  # axis = 0\n",
    "print(tf.math.argmax(x_argmax, 1))  # axis = 1\n",
    "print(tf.math.argmin(x_argmax))\n",
    "print(tf.math.argmin(x_argmax, 0))  # axis = 0\n",
    "print(tf.math.argmin(x_argmax, 1))  # axis = 1"
   ]
  },
  {
   "cell_type": "code",
   "execution_count": 32,
   "metadata": {},
   "outputs": [
    {
     "name": "stdout",
     "output_type": "stream",
     "text": [
      "tf.Tensor(\n",
      "[[ True  True]\n",
      " [ True False]], shape=(2, 2), dtype=bool)\n",
      "tf.Tensor(\n",
      "[[ 1 27]\n",
      " [ 1  1]], shape=(2, 2), dtype=int32)\n",
      "tf.Tensor(7, shape=(), dtype=int32)\n",
      "tf.Tensor([3 2], shape=(2,), dtype=int32)\n",
      "tf.Tensor([1 0], shape=(2,), dtype=int32)\n",
      "tf.Tensor([1 2], shape=(2,), dtype=int32)\n"
     ]
    }
   ],
   "source": [
    "x = tf.constant([[1,3],[1,2]])\n",
    "y = tf.constant([[1,3],[1,0]])\n",
    "\n",
    "print(tf.math.equal(x, y))\n",
    "print(tf.pow(x, y))\n",
    "print(tf.math.reduce_sum(x, axis=None, keepdims=False, name=None))\n",
    "print(tf.math.reduce_max(x, axis=1, keepdims=False, name=None)) # axis-x\n",
    "print(tf.math.reduce_min(y, axis=0, keepdims=False, name=None)) # axis-y\n",
    "print(tf.math.reduce_mean(x, axis=0, keepdims=False, name=None))"
   ]
  },
  {
   "cell_type": "code",
   "execution_count": 34,
   "metadata": {},
   "outputs": [
    {
     "data": {
      "text/plain": [
       "TopKV2(values=<tf.Tensor: shape=(2, 2), dtype=int32, numpy=\n",
       "array([[3, 1],\n",
       "       [1, 0]])>, indices=<tf.Tensor: shape=(2, 2), dtype=int32, numpy=\n",
       "array([[1, 0],\n",
       "       [0, 1]])>)"
      ]
     },
     "execution_count": 34,
     "metadata": {},
     "output_type": "execute_result"
    }
   ],
   "source": [
    "tf.math.top_k(y, k=2)"
   ]
  },
  {
   "attachments": {},
   "cell_type": "markdown",
   "metadata": {},
   "source": [
    "## Linear Algebra"
   ]
  },
  {
   "cell_type": "code",
   "execution_count": 37,
   "metadata": {},
   "outputs": [
    {
     "data": {
      "text/plain": [
       "<tf.Tensor: shape=(2, 2), dtype=int32, numpy=\n",
       "array([[4, 3],\n",
       "       [3, 3]])>"
      ]
     },
     "execution_count": 37,
     "metadata": {},
     "output_type": "execute_result"
    }
   ],
   "source": [
    "tf.linalg.matmul(x, y, \n",
    "                 transpose_a=False, transpose_b=False, \n",
    "                 adjoint_a=False, adjoint_b=False,\n",
    "                 a_is_sparse=False, b_is_sparse=False, \n",
    "                 output_type=None, name=None\n",
    "                )"
   ]
  },
  {
   "cell_type": "code",
   "execution_count": 41,
   "metadata": {},
   "outputs": [
    {
     "name": "stdout",
     "output_type": "stream",
     "text": [
      "element wise:  tf.Tensor(\n",
      "[[1 9]\n",
      " [1 0]], shape=(2, 2), dtype=int32)\n",
      "matrix mul:  tf.Tensor(\n",
      "[[4 3]\n",
      " [3 3]], shape=(2, 2), dtype=int32)\n"
     ]
    },
    {
     "data": {
      "text/plain": [
       "<tf.Tensor: shape=(2, 2), dtype=int32, numpy=\n",
       "array([[1, 1],\n",
       "       [3, 2]])>"
      ]
     },
     "execution_count": 41,
     "metadata": {},
     "output_type": "execute_result"
    }
   ],
   "source": [
    "print(\"element wise: \", x*y)\n",
    "print(\"matrix mul: \", x@y)\n",
    "\n",
    "tf.transpose(x)"
   ]
  },
  {
   "cell_type": "code",
   "execution_count": 55,
   "metadata": {},
   "outputs": [
    {
     "name": "stdout",
     "output_type": "stream",
     "text": [
      "x:  (3, 2, 2)  y:  (3, 2, 2)\n",
      "tf.Tensor(\n",
      "[[[ 3 12]\n",
      "  [ 0  4]]\n",
      "\n",
      " [[ 0  6]\n",
      "  [ 0  3]]\n",
      "\n",
      " [[ 6  4]\n",
      "  [ 3  0]]], shape=(3, 2, 2), dtype=int32)\n",
      "tf.Tensor(\n",
      "[[[ 3 10]\n",
      "  [ 3  8]]\n",
      "\n",
      " [[ 0  9]\n",
      "  [ 6  7]]\n",
      "\n",
      " [[ 9 14]\n",
      "  [ 2  4]]], shape=(3, 2, 2), dtype=int32)\n"
     ]
    }
   ],
   "source": [
    "x_3_d = tf.constant([[[1,3],[1,2]], [[0,3],[2,1]], [[3,1],[1,0]]])\n",
    "y_3_d = tf.constant([[[3,4],[0,2]], [[3,2],[0,3]],[[2,4],[3,2]]])\n",
    "\n",
    "print('x: ', x_3_d.shape, \" y: \", y_3_d.shape)\n",
    "print(x_3_d*y_3_d)\n",
    "print(x_3_d@y_3_d)"
   ]
  },
  {
   "cell_type": "code",
   "execution_count": 62,
   "metadata": {},
   "outputs": [
    {
     "name": "stdout",
     "output_type": "stream",
     "text": [
      "tf.Tensor(\n",
      "[[[1 0]\n",
      "  [0 2]]\n",
      "\n",
      " [[0 0]\n",
      "  [0 1]]\n",
      "\n",
      " [[3 0]\n",
      "  [0 0]]], shape=(3, 2, 2), dtype=int32)\n",
      "tf.Tensor(\n",
      "[[[1 0]\n",
      "  [1 2]]\n",
      "\n",
      " [[0 0]\n",
      "  [2 1]]\n",
      "\n",
      " [[3 0]\n",
      "  [1 0]]], shape=(3, 2, 2), dtype=int32)\n",
      "tf.Tensor(\n",
      "[[[1 3]\n",
      "  [0 2]]\n",
      "\n",
      " [[0 3]\n",
      "  [0 1]]\n",
      "\n",
      " [[3 1]\n",
      "  [0 0]]], shape=(3, 2, 2), dtype=int32)\n"
     ]
    }
   ],
   "source": [
    "## (lower < 0 or m-n <= lower) and (upper < 0 or m-n <= upper)\n",
    "## m -- rows, n -- columns\n",
    "print(tf.linalg.band_part(x_3_d, 0, 0))  # diagnol\n",
    "print(tf.linalg.band_part(x_3_d, -1, 0))  # lower triangular\n",
    "print(tf.linalg.band_part(x_3_d, 0, -1))  # upper triangular"
   ]
  },
  {
   "cell_type": "code",
   "execution_count": 65,
   "metadata": {},
   "outputs": [
    {
     "data": {
      "text/plain": [
       "<tf.Tensor: shape=(2, 2), dtype=float32, numpy=\n",
       "array([[-2.,  3.],\n",
       "       [ 1., -1.]], dtype=float32)>"
      ]
     },
     "execution_count": 65,
     "metadata": {},
     "output_type": "execute_result"
    }
   ],
   "source": [
    "sq_x = tf.constant([[1,3],[1,2]], dtype='float32')\n",
    "tf.linalg.inv(sq_x)"
   ]
  },
  {
   "cell_type": "code",
   "execution_count": 67,
   "metadata": {},
   "outputs": [
    {
     "name": "stdout",
     "output_type": "stream",
     "text": [
      "singular values:  tf.Tensor([3.8643284  0.25877714], shape=(2,), dtype=float32)\n",
      "left singular vectors:  tf.Tensor(\n",
      "[[ 0.8174155 -0.5760485]\n",
      " [ 0.5760485  0.8174155]], shape=(2, 2), dtype=float32)\n",
      "right singular vectors:  tf.Tensor(\n",
      "[[ 0.36059666  0.9327218 ]\n",
      " [ 0.9327218  -0.36059666]], shape=(2, 2), dtype=float32)\n"
     ]
    }
   ],
   "source": [
    "s, u, v = tf.linalg.svd(sq_x)\n",
    "print('singular values: ', s)\n",
    "print('left singular vectors: ', u)\n",
    "print('right singular vectors: ', v)"
   ]
  },
  {
   "cell_type": "code",
   "execution_count": 80,
   "metadata": {},
   "outputs": [
    {
     "name": "stdout",
     "output_type": "stream",
     "text": [
      "matmul:  tf.Tensor(\n",
      "[[23 14 43 50 10]\n",
      " [ 5 26 21 18 15]\n",
      " [13 16 30 36 20]], shape=(3, 5), dtype=int32)\n",
      "einsum:  tf.Tensor(\n",
      "[[23 14 43 50 10]\n",
      " [ 5 26 21 18 15]\n",
      " [13 16 30 36 20]], shape=(3, 5), dtype=int32)\n",
      "transpose using einsum:  tf.Tensor(\n",
      "[[ 2  2  1]\n",
      " [ 6 -2  2]\n",
      " [ 5  2  3]\n",
      " [ 2  3  4]], shape=(4, 3), dtype=int32)\n",
      "element wise using multiplication einsum:  tf.Tensor(\n",
      "[[ 4  4  1]\n",
      " [36  4  4]\n",
      " [25  4  9]\n",
      " [ 4  9 16]], shape=(4, 3), dtype=int32)\n",
      "sum of elements:  tf.Tensor(30, shape=(), dtype=int32)\n",
      "sum of elements along axis:  tf.Tensor([ 5  6 10  9], shape=(4,), dtype=int32)\n"
     ]
    }
   ],
   "source": [
    "A = tf.constant([[2,6,5,2],[2,-2,2,3],[1,2,3,4]])  # i,j\n",
    "B = tf.constant([[2,6,5,2,0],[2,-2,2,3,0],[1,2,3,4,0],[1,2,3,4,5]])  # j,k\n",
    "\n",
    "print(\"matmul: \", tf.linalg.matmul(A,B))\n",
    "print(\"einsum: \", tf.einsum(\"ij,jk -> ik\",A,B))\n",
    "print(\"transpose using einsum: \", tf.einsum(\"ij -> ji\",A))\n",
    "print(\"element wise using multiplication einsum: \", tf.einsum(\"ij, ij -> ji\",A, A))\n",
    "print(\"sum of elements: \", tf.einsum(\"ij ->\", A))\n",
    "print(\"sum of elements along axis: \", tf.einsum(\"ij -> j\", A))"
   ]
  },
  {
   "cell_type": "code",
   "execution_count": 85,
   "metadata": {},
   "outputs": [
    {
     "data": {
      "text/plain": [
       "TensorShape([32, 64, 128])"
      ]
     },
     "execution_count": 85,
     "metadata": {},
     "output_type": "execute_result"
    }
   ],
   "source": [
    "## Attention all you need (paper)\n",
    "\n",
    "Q = tf.random.normal([32,64,512])\n",
    "K = tf.random.normal([32,128,512])\n",
    "\n",
    "tf.einsum(\"bqm,bkm -> bqk\", Q, K).shape"
   ]
  },
  {
   "cell_type": "code",
   "execution_count": 88,
   "metadata": {},
   "outputs": [
    {
     "name": "stdout",
     "output_type": "stream",
     "text": [
      "(2, 4, 1, 2)\n",
      "(2, 4, 1, 2)\n"
     ]
    }
   ],
   "source": [
    "## Reformer: The efficient transformer (paper)\n",
    "\n",
    "A = tf.random.normal([2,4,4,2])\n",
    "B = tf.random.normal([2,4,4,1])\n",
    "\n",
    "print(tf.einsum(\"bcik,bcij -> bckj\", B, A).shape)\n",
    "print(tf.linalg.matmul(tf.linalg.matrix_transpose(B, (0,1,2,4,3)), A).shape)"
   ]
  },
  {
   "attachments": {},
   "cell_type": "markdown",
   "metadata": {},
   "source": [
    "## Common tensorflow functions"
   ]
  },
  {
   "cell_type": "code",
   "execution_count": 104,
   "metadata": {},
   "outputs": [
    {
     "name": "stdout",
     "output_type": "stream",
     "text": [
      "(3, 3, 3)\n",
      "(1, 3, 3, 3)\n",
      "(3, 1, 3, 3)\n",
      "(1, 1, 3)\n",
      "(1, 3)\n",
      "tf.Tensor([1 2 3 4 5 6 7 8], shape=(8,), dtype=int32)\n",
      "tf.Tensor(\n",
      "[[1 2]\n",
      " [3 4]\n",
      " [5 6]\n",
      " [7 8]], shape=(4, 2), dtype=int32)\n",
      "tf.Tensor(\n",
      "[[1 2]\n",
      " [3 4]\n",
      " [5 6]\n",
      " [7 8]], shape=(4, 2), dtype=int32)\n"
     ]
    }
   ],
   "source": [
    "print(tensor_three_d.shape)\n",
    "print(tf.expand_dims(tensor_three_d, axis=0).shape) # expand dimensions of matrix\n",
    "print(tf.expand_dims(tensor_three_d, axis=1).shape) # expand dimensions of matrix\n",
    "\n",
    "x_squeezed = tf.constant([[[[1, 2, 3]]]])\n",
    "for i in range(2):\n",
    "  x_squeezed = tf.squeeze(x_squeezed, axis=i)\n",
    "  print(x_squeezed.shape) # squeeze dimensions of matrix\n",
    "\n",
    "x_reshape = tf.constant([[1,2,3,4], [5,6,7,8]])\n",
    "print(tf.reshape(x_reshape, [8]))\n",
    "print(tf.reshape(x_reshape, [4,2])) # note: not a transpose\n",
    "print(tf.reshape(x_reshape, [4,-1])) # note: not a transpose"
   ]
  },
  {
   "cell_type": "code",
   "execution_count": 108,
   "metadata": {},
   "outputs": [
    {
     "name": "stdout",
     "output_type": "stream",
     "text": [
      "axis=0:  tf.Tensor(\n",
      "[[ 1  2  3]\n",
      " [ 4  5  6]\n",
      " [11 12 13]\n",
      " [14 15 16]], shape=(4, 3), dtype=int32)\n",
      "axis=1:  tf.Tensor(\n",
      "[[ 1  2  3 11 12 13]\n",
      " [ 4  5  6 14 15 16]], shape=(2, 6), dtype=int32)\n"
     ]
    }
   ],
   "source": [
    "t1 = tf.constant([[1,2,3],[4,5,6]])\n",
    "t2 = tf.constant([[11,12,13],[14,15,16]])\n",
    "\n",
    "print(\"axis=0: \", tf.concat([t1,t2], axis=0))\n",
    "print(\"axis=1: \", tf.concat([t1,t2], axis=1))"
   ]
  },
  {
   "cell_type": "code",
   "execution_count": 116,
   "metadata": {},
   "outputs": [
    {
     "name": "stdout",
     "output_type": "stream",
     "text": [
      "axis=0:  (2, 2, 3)\n",
      "axis=1:  (2, 2, 3)\n",
      "axis=2:  (2, 3, 2)\n",
      "axis=2 t1,t2,t1:  (3, 2, 3)\n"
     ]
    }
   ],
   "source": [
    "print(\"axis=0: \", tf.stack([t1, t2], axis=0).shape)\n",
    "print(\"axis=1: \", tf.stack([t1, t2], axis=1).shape)\n",
    "print(\"axis=2: \", tf.stack([t1, t2], axis=2).shape)\n",
    "print(\"axis=2 t1,t2,t1: \", tf.stack([t1, t2, t1], axis=0).shape)"
   ]
  },
  {
   "cell_type": "code",
   "execution_count": 122,
   "metadata": {},
   "outputs": [
    {
     "name": "stdout",
     "output_type": "stream",
     "text": [
      "tf.Tensor(\n",
      "[[0 0 0 0 0 0 0 0 0 0]\n",
      " [0 0 0 1 2 3 0 0 0 0]\n",
      " [0 0 0 4 5 6 0 0 0 0]\n",
      " [0 0 0 0 0 0 0 0 0 0]\n",
      " [0 0 0 0 0 0 0 0 0 0]], shape=(5, 10), dtype=int32)\n"
     ]
    }
   ],
   "source": [
    "paddings = tf.constant([[1,2],[3,4]])\n",
    "print(tf.pad(t1, paddings, 'CONSTANT', constant_values=0))"
   ]
  },
  {
   "cell_type": "code",
   "execution_count": 127,
   "metadata": {},
   "outputs": [
    {
     "name": "stdout",
     "output_type": "stream",
     "text": [
      "[b'p1' b'p2']\n",
      "[b'p1' b'p2']\n"
     ]
    }
   ],
   "source": [
    "params = tf.constant(['p0', 'p1', 'p2', 'p3', 'p4'])\n",
    "print(params[1:3].numpy())\n",
    "print(tf.gather(params, tf.range(1,3)).numpy())"
   ]
  },
  {
   "cell_type": "code",
   "execution_count": 134,
   "metadata": {},
   "outputs": [
    {
     "name": "stdout",
     "output_type": "stream",
     "text": [
      "tf.Tensor(\n",
      "[[b'a' b'b']\n",
      " [b'c' b'd']], shape=(2, 2), dtype=string)\n",
      "tf.Tensor([b'f'], shape=(1,), dtype=string)\n"
     ]
    }
   ],
   "source": [
    "indices1 = [[0], [1]]\n",
    "indices2 = [[2, 1]]\n",
    "params = [['a', 'b'], ['c', 'd'], ['e', 'f']]\n",
    "print(tf.gather_nd(params, indices1))\n",
    "print(tf.gather_nd(params, indices2))"
   ]
  },
  {
   "attachments": {},
   "cell_type": "markdown",
   "metadata": {},
   "source": [
    "### Ragged tensors: Rectangular shape"
   ]
  },
  {
   "cell_type": "code",
   "execution_count": 141,
   "metadata": {},
   "outputs": [
    {
     "name": "stdout",
     "output_type": "stream",
     "text": [
      "(4, None)\n",
      "<tf.RaggedTensor [[1, 2, 0], [3], [1, 2]]>\n"
     ]
    }
   ],
   "source": [
    "r1 = [[1,2,0], [3], [1,5,6,7,8,9],[1,2]]\n",
    "tensor_ragged = tf.ragged.constant(r1)\n",
    "print(tensor_ragged.shape)\n",
    "print(tf.ragged.boolean_mask(tensor_ragged, tf.ragged.constant([True, True, False,True])))\n"
   ]
  },
  {
   "cell_type": "code",
   "execution_count": 146,
   "metadata": {},
   "outputs": [
    {
     "name": "stdout",
     "output_type": "stream",
     "text": [
      "<tf.RaggedTensor [[3, 1, 4, 1], [], [5, 9, 2], [6]]>\n",
      "(4, None)\n"
     ]
    }
   ],
   "source": [
    "gen_ragged = tf.RaggedTensor.from_row_lengths(values=[3,1,4,1,5,9,2,6], row_lengths=[4,0,3,1,])\n",
    "print(gen_ragged)\n",
    "print(gen_ragged.shape)"
   ]
  },
  {
   "attachments": {},
   "cell_type": "markdown",
   "metadata": {},
   "source": [
    "### Sparse tensors"
   ]
  },
  {
   "cell_type": "code",
   "execution_count": 149,
   "metadata": {},
   "outputs": [
    {
     "name": "stdout",
     "output_type": "stream",
     "text": [
      "tensor_sparse:  SparseTensor(indices=tf.Tensor(\n",
      "[[1 1]\n",
      " [3 4]], shape=(2, 2), dtype=int64), values=tf.Tensor([11 56], shape=(2,), dtype=int32), dense_shape=tf.Tensor([5 6], shape=(2,), dtype=int64))\n",
      "dense_sparse:  tf.Tensor(\n",
      "[[ 0  0  0  0  0  0]\n",
      " [ 0 11  0  0  0  0]\n",
      " [ 0  0  0  0  0  0]\n",
      " [ 0  0  0  0 56  0]\n",
      " [ 0  0  0  0  0  0]], shape=(5, 6), dtype=int32)\n"
     ]
    }
   ],
   "source": [
    "tensor_sparse = tf.sparse.SparseTensor(indices=[[1,1],[3,4]], values=[11,56], dense_shape=[5,6])\n",
    "print(\"tensor_sparse: \", tensor_sparse)\n",
    "print(\"dense_sparse: \", tf.sparse.to_dense(tensor_sparse))"
   ]
  },
  {
   "attachments": {},
   "cell_type": "markdown",
   "metadata": {},
   "source": [
    "### String tensors"
   ]
  },
  {
   "cell_type": "code",
   "execution_count": 154,
   "metadata": {},
   "outputs": [
    {
     "name": "stdout",
     "output_type": "stream",
     "text": [
      "tf.Tensor([b'hi' b'hello'], shape=(2,), dtype=string)\n",
      "tf.Tensor(b'hi, hello', shape=(), dtype=string)\n",
      "tf.Tensor([b'HI' b'HELLO'], shape=(2,), dtype=string)\n"
     ]
    }
   ],
   "source": [
    "tensor_string = tf.constant(['hi', 'hello'])\n",
    "print(tensor_string)\n",
    "print(tf.strings.join(tensor_string, separator=\", \"))\n",
    "print(tf.strings.upper(tensor_string))"
   ]
  },
  {
   "attachments": {},
   "cell_type": "markdown",
   "metadata": {},
   "source": [
    "## Tensor variables"
   ]
  },
  {
   "cell_type": "code",
   "execution_count": 156,
   "metadata": {},
   "outputs": [
    {
     "data": {
      "text/plain": [
       "<tf.Variable 'Variable:0' shape=(2,) dtype=int32, numpy=array([1, 2])>"
      ]
     },
     "execution_count": 156,
     "metadata": {},
     "output_type": "execute_result"
    }
   ],
   "source": [
    "x = tf.constant([1,2])\n",
    "x_var = tf.Variable([1,2])\n",
    "x_var"
   ]
  },
  {
   "cell_type": "code",
   "execution_count": 159,
   "metadata": {},
   "outputs": [
    {
     "data": {
      "text/plain": [
       "<tf.Variable 'UnreadVariable' shape=(2,) dtype=int32, numpy=array([-2, -2])>"
      ]
     },
     "execution_count": 159,
     "metadata": {},
     "output_type": "execute_result"
    }
   ],
   "source": [
    "x_var.assign_sub([3,4])"
   ]
  },
  {
   "cell_type": "code",
   "execution_count": 164,
   "metadata": {},
   "outputs": [
    {
     "name": "stdout",
     "output_type": "stream",
     "text": [
      "tf.Tensor([1 2 3], shape=(3,), dtype=int32) /job:localhost/replica:0/task:0/device:CPU:0\n",
      "<tf.Variable 'Variable:0' shape=(1,) dtype=int32, numpy=array([2])> /job:localhost/replica:0/task:0/device:CPU:0\n",
      "tf.Tensor([3 4 5], shape=(3,), dtype=int32) /job:localhost/replica:0/task:0/device:CPU:0\n"
     ]
    }
   ],
   "source": [
    "with tf.device('CPU:0'):\n",
    "    x_1 = tf.constant([1,2,3])\n",
    "    x_2 = tf.Variable([2])\n",
    "\n",
    "with tf.device('GPU:0'):\n",
    "    x_3 = x_1 + x_2\n",
    "\n",
    "print(x_1, x_1.device)\n",
    "print(x_2, x_2.device)\n",
    "print(x_3, x_3.device)"
   ]
  },
  {
   "cell_type": "code",
   "execution_count": null,
   "metadata": {},
   "outputs": [],
   "source": []
  }
 ],
 "metadata": {
  "kernelspec": {
   "display_name": "mlVenv",
   "language": "python",
   "name": "python3"
  },
  "language_info": {
   "codemirror_mode": {
    "name": "ipython",
    "version": 3
   },
   "file_extension": ".py",
   "mimetype": "text/x-python",
   "name": "python",
   "nbconvert_exporter": "python",
   "pygments_lexer": "ipython3",
   "version": "3.10.11"
  },
  "orig_nbformat": 4
 },
 "nbformat": 4,
 "nbformat_minor": 2
}
